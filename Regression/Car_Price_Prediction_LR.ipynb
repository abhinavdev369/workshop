{
  "nbformat": 4,
  "nbformat_minor": 0,
  "metadata": {
    "colab": {
      "name": "Car Price Prediction LR.ipynb",
      "provenance": [],
      "collapsed_sections": [],
      "include_colab_link": true
    },
    "kernelspec": {
      "name": "python3",
      "display_name": "Python 3"
    },
    "language_info": {
      "name": "python"
    }
  },
  "cells": [
    {
      "cell_type": "markdown",
      "metadata": {
        "id": "view-in-github",
        "colab_type": "text"
      },
      "source": [
        "<a href=\"https://colab.research.google.com/github/Foursteps-tech/Machine_Learning/blob/main/Regression/Car_Price_Prediction_LR.ipynb\" target=\"_parent\"><img src=\"https://colab.research.google.com/assets/colab-badge.svg\" alt=\"Open In Colab\"/></a>"
      ]
    },
    {
      "cell_type": "code",
      "source": [
        "!git clone https://github.com/Foursteps-tech/Machine_Learning.git"
      ],
      "metadata": {
        "id": "tGdAZMxgatP4"
      },
      "execution_count": null,
      "outputs": []
    },
    {
      "cell_type": "code",
      "execution_count": 7,
      "metadata": {
        "id": "l-DE8z4tVcZn"
      },
      "outputs": [],
      "source": [
        "import numpy as np\n",
        "import pandas as pd\n",
        "import matplotlib.pyplot as plt\n",
        "import seaborn as sns\n",
        "from sklearn import linear_model\n",
        "from sklearn.linear_model import LinearRegression\n",
        "\n",
        "# reading the dataset\n",
        "cars = pd.read_csv(\"Machine_Learning/Regression/CarPrice_Assignment.csv\")"
      ]
    },
    {
      "cell_type": "code",
      "source": [
        "# summary of the dataset: 205 rows, 26 columns, no null values\n",
        "print(cars.info())"
      ],
      "metadata": {
        "id": "8F-tAyZOb2Iw"
      },
      "execution_count": null,
      "outputs": []
    },
    {
      "cell_type": "code",
      "source": [
        "cars.head()"
      ],
      "metadata": {
        "id": "ryshKpa2b6_y"
      },
      "execution_count": null,
      "outputs": []
    },
    {
      "cell_type": "code",
      "source": [
        "# symboling: -2 (least risky) to +3 most risky\n",
        "# Most cars are 0,1,2\n",
        "cars['symboling'].astype('category').value_counts()"
      ],
      "metadata": {
        "id": "gL6e47WUcD3y"
      },
      "execution_count": null,
      "outputs": []
    },
    {
      "cell_type": "code",
      "source": [
        "# aspiration: An (internal combustion) engine property showing \n",
        "# whether the oxygen intake is through standard (atmospheric pressure)\n",
        "# or through turbocharging (pressurised oxygen intake)\n",
        "\n",
        "cars['aspiration'].astype('category').value_counts()"
      ],
      "metadata": {
        "id": "amriHmgncIm6"
      },
      "execution_count": null,
      "outputs": []
    },
    {
      "cell_type": "code",
      "source": [
        "# drivewheel: frontwheel, rarewheel or four-wheel drive \n",
        "cars['drivewheel'].astype('category').value_counts()"
      ],
      "metadata": {
        "id": "0FPf8BLZcLrj"
      },
      "execution_count": null,
      "outputs": []
    },
    {
      "cell_type": "code",
      "source": [
        "# wheelbase: distance between centre of front and rarewheels\n",
        "sns.distplot(cars['wheelbase'])\n",
        "plt.show()"
      ],
      "metadata": {
        "id": "wUycRVV2cMKT"
      },
      "execution_count": null,
      "outputs": []
    },
    {
      "cell_type": "code",
      "source": [
        "# curbweight: weight of car without occupants or baggage\n",
        "sns.distplot(cars['curbweight'])\n",
        "plt.show()"
      ],
      "metadata": {
        "id": "zHRxLssScPuS"
      },
      "execution_count": null,
      "outputs": []
    },
    {
      "cell_type": "code",
      "source": [
        "# stroke: volume of the engine (the distance traveled by the \n",
        "# piston in each cycle)\n",
        "sns.distplot(cars['stroke'])\n",
        "plt.show()"
      ],
      "metadata": {
        "id": "K2La1izdcRsX"
      },
      "execution_count": null,
      "outputs": []
    },
    {
      "cell_type": "code",
      "source": [
        "# compression ration: ration of volume of compression chamber \n",
        "# at largest capacity to least capacity\n",
        "sns.distplot(cars['compressionratio'])\n",
        "plt.show()"
      ],
      "metadata": {
        "id": "B5652gNacTvk"
      },
      "execution_count": null,
      "outputs": []
    },
    {
      "cell_type": "code",
      "source": [
        "# target variable: price of car\n",
        "sns.distplot(cars['price'])\n",
        "plt.show()"
      ],
      "metadata": {
        "id": "Cg_vhvchcVnE"
      },
      "execution_count": null,
      "outputs": []
    },
    {
      "cell_type": "code",
      "source": [
        "cars_numeric = cars.select_dtypes(include=['float64', 'int'])\n",
        "cars_numeric.head()"
      ],
      "metadata": {
        "id": "xNPqM04Xcd8X"
      },
      "execution_count": null,
      "outputs": []
    },
    {
      "cell_type": "code",
      "source": [
        "# dropping symboling and car_ID \n",
        "cars_numeric = cars_numeric.drop(['symboling', 'car_ID'], axis=1)\n",
        "cars_numeric.head()"
      ],
      "metadata": {
        "id": "L3QJ-mj_cmW4"
      },
      "execution_count": null,
      "outputs": []
    },
    {
      "cell_type": "code",
      "source": [
        "# correlation matrix\n",
        "cor = cars_numeric.corr()\n",
        "cor"
      ],
      "metadata": {
        "id": "-uZA2I7jcpFZ",
        "outputId": "8c323012-2d33-47a5-8986-7f97a6b68996",
        "colab": {
          "base_uri": "https://localhost:8080/",
          "height": 552
        }
      },
      "execution_count": 54,
      "outputs": [
        {
          "output_type": "execute_result",
          "data": {
            "text/plain": [
              "                  wheelbase  carlength  carwidth  carheight  curbweight  \\\n",
              "wheelbase          1.000000   0.874587  0.795144   0.589435    0.776386   \n",
              "carlength          0.874587   1.000000  0.841118   0.491029    0.877728   \n",
              "carwidth           0.795144   0.841118  1.000000   0.279210    0.867032   \n",
              "carheight          0.589435   0.491029  0.279210   1.000000    0.295572   \n",
              "curbweight         0.776386   0.877728  0.867032   0.295572    1.000000   \n",
              "enginesize         0.569329   0.683360  0.735433   0.067149    0.850594   \n",
              "boreratio          0.488750   0.606454  0.559150   0.171071    0.648480   \n",
              "stroke             0.160959   0.129533  0.182942  -0.055307    0.168790   \n",
              "compressionratio   0.249786   0.158414  0.181129   0.261214    0.151362   \n",
              "horsepower         0.353294   0.552623  0.640732  -0.108802    0.750739   \n",
              "peakrpm           -0.360469  -0.287242 -0.220012  -0.320411   -0.266243   \n",
              "citympg           -0.470414  -0.670909 -0.642704  -0.048640   -0.757414   \n",
              "highwaympg        -0.544082  -0.704662 -0.677218  -0.107358   -0.797465   \n",
              "price              0.577816   0.682920  0.759325   0.119336    0.835305   \n",
              "\n",
              "                  enginesize  boreratio    stroke  compressionratio  \\\n",
              "wheelbase           0.569329   0.488750  0.160959          0.249786   \n",
              "carlength           0.683360   0.606454  0.129533          0.158414   \n",
              "carwidth            0.735433   0.559150  0.182942          0.181129   \n",
              "carheight           0.067149   0.171071 -0.055307          0.261214   \n",
              "curbweight          0.850594   0.648480  0.168790          0.151362   \n",
              "enginesize          1.000000   0.583774  0.203129          0.028971   \n",
              "boreratio           0.583774   1.000000 -0.055909          0.005197   \n",
              "stroke              0.203129  -0.055909  1.000000          0.186110   \n",
              "compressionratio    0.028971   0.005197  0.186110          1.000000   \n",
              "horsepower          0.809769   0.573677  0.080940         -0.204326   \n",
              "peakrpm            -0.244660  -0.254976 -0.067964         -0.435741   \n",
              "citympg            -0.653658  -0.584532 -0.042145          0.324701   \n",
              "highwaympg         -0.677470  -0.587012 -0.043931          0.265201   \n",
              "price               0.874145   0.553173  0.079443          0.067984   \n",
              "\n",
              "                  horsepower   peakrpm   citympg  highwaympg     price  \n",
              "wheelbase           0.353294 -0.360469 -0.470414   -0.544082  0.577816  \n",
              "carlength           0.552623 -0.287242 -0.670909   -0.704662  0.682920  \n",
              "carwidth            0.640732 -0.220012 -0.642704   -0.677218  0.759325  \n",
              "carheight          -0.108802 -0.320411 -0.048640   -0.107358  0.119336  \n",
              "curbweight          0.750739 -0.266243 -0.757414   -0.797465  0.835305  \n",
              "enginesize          0.809769 -0.244660 -0.653658   -0.677470  0.874145  \n",
              "boreratio           0.573677 -0.254976 -0.584532   -0.587012  0.553173  \n",
              "stroke              0.080940 -0.067964 -0.042145   -0.043931  0.079443  \n",
              "compressionratio   -0.204326 -0.435741  0.324701    0.265201  0.067984  \n",
              "horsepower          1.000000  0.131073 -0.801456   -0.770544  0.808139  \n",
              "peakrpm             0.131073  1.000000 -0.113544   -0.054275 -0.085267  \n",
              "citympg            -0.801456 -0.113544  1.000000    0.971337 -0.685751  \n",
              "highwaympg         -0.770544 -0.054275  0.971337    1.000000 -0.697599  \n",
              "price               0.808139 -0.085267 -0.685751   -0.697599  1.000000  "
            ],
            "text/html": [
              "\n",
              "  <div id=\"df-b95c6e35-e71b-4667-8c1b-2c1fef3c7cc6\">\n",
              "    <div class=\"colab-df-container\">\n",
              "      <div>\n",
              "<style scoped>\n",
              "    .dataframe tbody tr th:only-of-type {\n",
              "        vertical-align: middle;\n",
              "    }\n",
              "\n",
              "    .dataframe tbody tr th {\n",
              "        vertical-align: top;\n",
              "    }\n",
              "\n",
              "    .dataframe thead th {\n",
              "        text-align: right;\n",
              "    }\n",
              "</style>\n",
              "<table border=\"1\" class=\"dataframe\">\n",
              "  <thead>\n",
              "    <tr style=\"text-align: right;\">\n",
              "      <th></th>\n",
              "      <th>wheelbase</th>\n",
              "      <th>carlength</th>\n",
              "      <th>carwidth</th>\n",
              "      <th>carheight</th>\n",
              "      <th>curbweight</th>\n",
              "      <th>enginesize</th>\n",
              "      <th>boreratio</th>\n",
              "      <th>stroke</th>\n",
              "      <th>compressionratio</th>\n",
              "      <th>horsepower</th>\n",
              "      <th>peakrpm</th>\n",
              "      <th>citympg</th>\n",
              "      <th>highwaympg</th>\n",
              "      <th>price</th>\n",
              "    </tr>\n",
              "  </thead>\n",
              "  <tbody>\n",
              "    <tr>\n",
              "      <th>wheelbase</th>\n",
              "      <td>1.000000</td>\n",
              "      <td>0.874587</td>\n",
              "      <td>0.795144</td>\n",
              "      <td>0.589435</td>\n",
              "      <td>0.776386</td>\n",
              "      <td>0.569329</td>\n",
              "      <td>0.488750</td>\n",
              "      <td>0.160959</td>\n",
              "      <td>0.249786</td>\n",
              "      <td>0.353294</td>\n",
              "      <td>-0.360469</td>\n",
              "      <td>-0.470414</td>\n",
              "      <td>-0.544082</td>\n",
              "      <td>0.577816</td>\n",
              "    </tr>\n",
              "    <tr>\n",
              "      <th>carlength</th>\n",
              "      <td>0.874587</td>\n",
              "      <td>1.000000</td>\n",
              "      <td>0.841118</td>\n",
              "      <td>0.491029</td>\n",
              "      <td>0.877728</td>\n",
              "      <td>0.683360</td>\n",
              "      <td>0.606454</td>\n",
              "      <td>0.129533</td>\n",
              "      <td>0.158414</td>\n",
              "      <td>0.552623</td>\n",
              "      <td>-0.287242</td>\n",
              "      <td>-0.670909</td>\n",
              "      <td>-0.704662</td>\n",
              "      <td>0.682920</td>\n",
              "    </tr>\n",
              "    <tr>\n",
              "      <th>carwidth</th>\n",
              "      <td>0.795144</td>\n",
              "      <td>0.841118</td>\n",
              "      <td>1.000000</td>\n",
              "      <td>0.279210</td>\n",
              "      <td>0.867032</td>\n",
              "      <td>0.735433</td>\n",
              "      <td>0.559150</td>\n",
              "      <td>0.182942</td>\n",
              "      <td>0.181129</td>\n",
              "      <td>0.640732</td>\n",
              "      <td>-0.220012</td>\n",
              "      <td>-0.642704</td>\n",
              "      <td>-0.677218</td>\n",
              "      <td>0.759325</td>\n",
              "    </tr>\n",
              "    <tr>\n",
              "      <th>carheight</th>\n",
              "      <td>0.589435</td>\n",
              "      <td>0.491029</td>\n",
              "      <td>0.279210</td>\n",
              "      <td>1.000000</td>\n",
              "      <td>0.295572</td>\n",
              "      <td>0.067149</td>\n",
              "      <td>0.171071</td>\n",
              "      <td>-0.055307</td>\n",
              "      <td>0.261214</td>\n",
              "      <td>-0.108802</td>\n",
              "      <td>-0.320411</td>\n",
              "      <td>-0.048640</td>\n",
              "      <td>-0.107358</td>\n",
              "      <td>0.119336</td>\n",
              "    </tr>\n",
              "    <tr>\n",
              "      <th>curbweight</th>\n",
              "      <td>0.776386</td>\n",
              "      <td>0.877728</td>\n",
              "      <td>0.867032</td>\n",
              "      <td>0.295572</td>\n",
              "      <td>1.000000</td>\n",
              "      <td>0.850594</td>\n",
              "      <td>0.648480</td>\n",
              "      <td>0.168790</td>\n",
              "      <td>0.151362</td>\n",
              "      <td>0.750739</td>\n",
              "      <td>-0.266243</td>\n",
              "      <td>-0.757414</td>\n",
              "      <td>-0.797465</td>\n",
              "      <td>0.835305</td>\n",
              "    </tr>\n",
              "    <tr>\n",
              "      <th>enginesize</th>\n",
              "      <td>0.569329</td>\n",
              "      <td>0.683360</td>\n",
              "      <td>0.735433</td>\n",
              "      <td>0.067149</td>\n",
              "      <td>0.850594</td>\n",
              "      <td>1.000000</td>\n",
              "      <td>0.583774</td>\n",
              "      <td>0.203129</td>\n",
              "      <td>0.028971</td>\n",
              "      <td>0.809769</td>\n",
              "      <td>-0.244660</td>\n",
              "      <td>-0.653658</td>\n",
              "      <td>-0.677470</td>\n",
              "      <td>0.874145</td>\n",
              "    </tr>\n",
              "    <tr>\n",
              "      <th>boreratio</th>\n",
              "      <td>0.488750</td>\n",
              "      <td>0.606454</td>\n",
              "      <td>0.559150</td>\n",
              "      <td>0.171071</td>\n",
              "      <td>0.648480</td>\n",
              "      <td>0.583774</td>\n",
              "      <td>1.000000</td>\n",
              "      <td>-0.055909</td>\n",
              "      <td>0.005197</td>\n",
              "      <td>0.573677</td>\n",
              "      <td>-0.254976</td>\n",
              "      <td>-0.584532</td>\n",
              "      <td>-0.587012</td>\n",
              "      <td>0.553173</td>\n",
              "    </tr>\n",
              "    <tr>\n",
              "      <th>stroke</th>\n",
              "      <td>0.160959</td>\n",
              "      <td>0.129533</td>\n",
              "      <td>0.182942</td>\n",
              "      <td>-0.055307</td>\n",
              "      <td>0.168790</td>\n",
              "      <td>0.203129</td>\n",
              "      <td>-0.055909</td>\n",
              "      <td>1.000000</td>\n",
              "      <td>0.186110</td>\n",
              "      <td>0.080940</td>\n",
              "      <td>-0.067964</td>\n",
              "      <td>-0.042145</td>\n",
              "      <td>-0.043931</td>\n",
              "      <td>0.079443</td>\n",
              "    </tr>\n",
              "    <tr>\n",
              "      <th>compressionratio</th>\n",
              "      <td>0.249786</td>\n",
              "      <td>0.158414</td>\n",
              "      <td>0.181129</td>\n",
              "      <td>0.261214</td>\n",
              "      <td>0.151362</td>\n",
              "      <td>0.028971</td>\n",
              "      <td>0.005197</td>\n",
              "      <td>0.186110</td>\n",
              "      <td>1.000000</td>\n",
              "      <td>-0.204326</td>\n",
              "      <td>-0.435741</td>\n",
              "      <td>0.324701</td>\n",
              "      <td>0.265201</td>\n",
              "      <td>0.067984</td>\n",
              "    </tr>\n",
              "    <tr>\n",
              "      <th>horsepower</th>\n",
              "      <td>0.353294</td>\n",
              "      <td>0.552623</td>\n",
              "      <td>0.640732</td>\n",
              "      <td>-0.108802</td>\n",
              "      <td>0.750739</td>\n",
              "      <td>0.809769</td>\n",
              "      <td>0.573677</td>\n",
              "      <td>0.080940</td>\n",
              "      <td>-0.204326</td>\n",
              "      <td>1.000000</td>\n",
              "      <td>0.131073</td>\n",
              "      <td>-0.801456</td>\n",
              "      <td>-0.770544</td>\n",
              "      <td>0.808139</td>\n",
              "    </tr>\n",
              "    <tr>\n",
              "      <th>peakrpm</th>\n",
              "      <td>-0.360469</td>\n",
              "      <td>-0.287242</td>\n",
              "      <td>-0.220012</td>\n",
              "      <td>-0.320411</td>\n",
              "      <td>-0.266243</td>\n",
              "      <td>-0.244660</td>\n",
              "      <td>-0.254976</td>\n",
              "      <td>-0.067964</td>\n",
              "      <td>-0.435741</td>\n",
              "      <td>0.131073</td>\n",
              "      <td>1.000000</td>\n",
              "      <td>-0.113544</td>\n",
              "      <td>-0.054275</td>\n",
              "      <td>-0.085267</td>\n",
              "    </tr>\n",
              "    <tr>\n",
              "      <th>citympg</th>\n",
              "      <td>-0.470414</td>\n",
              "      <td>-0.670909</td>\n",
              "      <td>-0.642704</td>\n",
              "      <td>-0.048640</td>\n",
              "      <td>-0.757414</td>\n",
              "      <td>-0.653658</td>\n",
              "      <td>-0.584532</td>\n",
              "      <td>-0.042145</td>\n",
              "      <td>0.324701</td>\n",
              "      <td>-0.801456</td>\n",
              "      <td>-0.113544</td>\n",
              "      <td>1.000000</td>\n",
              "      <td>0.971337</td>\n",
              "      <td>-0.685751</td>\n",
              "    </tr>\n",
              "    <tr>\n",
              "      <th>highwaympg</th>\n",
              "      <td>-0.544082</td>\n",
              "      <td>-0.704662</td>\n",
              "      <td>-0.677218</td>\n",
              "      <td>-0.107358</td>\n",
              "      <td>-0.797465</td>\n",
              "      <td>-0.677470</td>\n",
              "      <td>-0.587012</td>\n",
              "      <td>-0.043931</td>\n",
              "      <td>0.265201</td>\n",
              "      <td>-0.770544</td>\n",
              "      <td>-0.054275</td>\n",
              "      <td>0.971337</td>\n",
              "      <td>1.000000</td>\n",
              "      <td>-0.697599</td>\n",
              "    </tr>\n",
              "    <tr>\n",
              "      <th>price</th>\n",
              "      <td>0.577816</td>\n",
              "      <td>0.682920</td>\n",
              "      <td>0.759325</td>\n",
              "      <td>0.119336</td>\n",
              "      <td>0.835305</td>\n",
              "      <td>0.874145</td>\n",
              "      <td>0.553173</td>\n",
              "      <td>0.079443</td>\n",
              "      <td>0.067984</td>\n",
              "      <td>0.808139</td>\n",
              "      <td>-0.085267</td>\n",
              "      <td>-0.685751</td>\n",
              "      <td>-0.697599</td>\n",
              "      <td>1.000000</td>\n",
              "    </tr>\n",
              "  </tbody>\n",
              "</table>\n",
              "</div>\n",
              "      <button class=\"colab-df-convert\" onclick=\"convertToInteractive('df-b95c6e35-e71b-4667-8c1b-2c1fef3c7cc6')\"\n",
              "              title=\"Convert this dataframe to an interactive table.\"\n",
              "              style=\"display:none;\">\n",
              "        \n",
              "  <svg xmlns=\"http://www.w3.org/2000/svg\" height=\"24px\"viewBox=\"0 0 24 24\"\n",
              "       width=\"24px\">\n",
              "    <path d=\"M0 0h24v24H0V0z\" fill=\"none\"/>\n",
              "    <path d=\"M18.56 5.44l.94 2.06.94-2.06 2.06-.94-2.06-.94-.94-2.06-.94 2.06-2.06.94zm-11 1L8.5 8.5l.94-2.06 2.06-.94-2.06-.94L8.5 2.5l-.94 2.06-2.06.94zm10 10l.94 2.06.94-2.06 2.06-.94-2.06-.94-.94-2.06-.94 2.06-2.06.94z\"/><path d=\"M17.41 7.96l-1.37-1.37c-.4-.4-.92-.59-1.43-.59-.52 0-1.04.2-1.43.59L10.3 9.45l-7.72 7.72c-.78.78-.78 2.05 0 2.83L4 21.41c.39.39.9.59 1.41.59.51 0 1.02-.2 1.41-.59l7.78-7.78 2.81-2.81c.8-.78.8-2.07 0-2.86zM5.41 20L4 18.59l7.72-7.72 1.47 1.35L5.41 20z\"/>\n",
              "  </svg>\n",
              "      </button>\n",
              "      \n",
              "  <style>\n",
              "    .colab-df-container {\n",
              "      display:flex;\n",
              "      flex-wrap:wrap;\n",
              "      gap: 12px;\n",
              "    }\n",
              "\n",
              "    .colab-df-convert {\n",
              "      background-color: #E8F0FE;\n",
              "      border: none;\n",
              "      border-radius: 50%;\n",
              "      cursor: pointer;\n",
              "      display: none;\n",
              "      fill: #1967D2;\n",
              "      height: 32px;\n",
              "      padding: 0 0 0 0;\n",
              "      width: 32px;\n",
              "    }\n",
              "\n",
              "    .colab-df-convert:hover {\n",
              "      background-color: #E2EBFA;\n",
              "      box-shadow: 0px 1px 2px rgba(60, 64, 67, 0.3), 0px 1px 3px 1px rgba(60, 64, 67, 0.15);\n",
              "      fill: #174EA6;\n",
              "    }\n",
              "\n",
              "    [theme=dark] .colab-df-convert {\n",
              "      background-color: #3B4455;\n",
              "      fill: #D2E3FC;\n",
              "    }\n",
              "\n",
              "    [theme=dark] .colab-df-convert:hover {\n",
              "      background-color: #434B5C;\n",
              "      box-shadow: 0px 1px 3px 1px rgba(0, 0, 0, 0.15);\n",
              "      filter: drop-shadow(0px 1px 2px rgba(0, 0, 0, 0.3));\n",
              "      fill: #FFFFFF;\n",
              "    }\n",
              "  </style>\n",
              "\n",
              "      <script>\n",
              "        const buttonEl =\n",
              "          document.querySelector('#df-b95c6e35-e71b-4667-8c1b-2c1fef3c7cc6 button.colab-df-convert');\n",
              "        buttonEl.style.display =\n",
              "          google.colab.kernel.accessAllowed ? 'block' : 'none';\n",
              "\n",
              "        async function convertToInteractive(key) {\n",
              "          const element = document.querySelector('#df-b95c6e35-e71b-4667-8c1b-2c1fef3c7cc6');\n",
              "          const dataTable =\n",
              "            await google.colab.kernel.invokeFunction('convertToInteractive',\n",
              "                                                     [key], {});\n",
              "          if (!dataTable) return;\n",
              "\n",
              "          const docLinkHtml = 'Like what you see? Visit the ' +\n",
              "            '<a target=\"_blank\" href=https://colab.research.google.com/notebooks/data_table.ipynb>data table notebook</a>'\n",
              "            + ' to learn more about interactive tables.';\n",
              "          element.innerHTML = '';\n",
              "          dataTable['output_type'] = 'display_data';\n",
              "          await google.colab.output.renderOutput(dataTable, element);\n",
              "          const docLink = document.createElement('div');\n",
              "          docLink.innerHTML = docLinkHtml;\n",
              "          element.appendChild(docLink);\n",
              "        }\n",
              "      </script>\n",
              "    </div>\n",
              "  </div>\n",
              "  "
            ]
          },
          "metadata": {},
          "execution_count": 54
        }
      ]
    },
    {
      "cell_type": "code",
      "source": [
        "# plotting correlations on a heatmap\n",
        "\n",
        "# figure size\n",
        "plt.figure(figsize=(16,8))\n",
        "\n",
        "# heatmap\n",
        "sns.heatmap(cor, cmap=\"YlGnBu\", annot=True)\n",
        "plt.show()"
      ],
      "metadata": {
        "id": "vRTUWliidKOi"
      },
      "execution_count": null,
      "outputs": []
    },
    {
      "cell_type": "code",
      "source": [
        "# variable formats\n",
        "cars.info()"
      ],
      "metadata": {
        "id": "M8ssWGHYdt8D"
      },
      "execution_count": null,
      "outputs": []
    },
    {
      "cell_type": "code",
      "source": [
        "# converting symboling to categorical\n",
        "cars['symboling'] = cars['symboling'].astype('object')\n",
        "cars.info()"
      ],
      "metadata": {
        "id": "FF_T8_9-dxjY"
      },
      "execution_count": null,
      "outputs": []
    },
    {
      "cell_type": "code",
      "source": [
        "# CarName: first few entries\n",
        "cars['CarName'][:30]"
      ],
      "metadata": {
        "id": "5QZf8zMNd0Y0"
      },
      "execution_count": null,
      "outputs": []
    },
    {
      "cell_type": "code",
      "source": [
        "carnames = cars['CarName'].apply(lambda x: x.split(\" \")[0])\n",
        "carnames[:30]"
      ],
      "metadata": {
        "id": "sswuBPdCd3WZ"
      },
      "execution_count": null,
      "outputs": []
    },
    {
      "cell_type": "code",
      "source": [
        "# New column car_company\n",
        "cars['car_company'] = cars['CarName'].apply(lambda x: x.split(\" \")[0])"
      ],
      "metadata": {
        "id": "NfxO53AmeGOr"
      },
      "execution_count": 26,
      "outputs": []
    },
    {
      "cell_type": "code",
      "source": [
        "# look at all values \n",
        "cars['car_company'].astype('category').value_counts()"
      ],
      "metadata": {
        "id": "lu7DZds0eKuN"
      },
      "execution_count": null,
      "outputs": []
    },
    {
      "cell_type": "code",
      "source": [
        "# replacing misspelled car_company names\n",
        "\n",
        "# volkswagen\n",
        "cars.loc[(cars['car_company'] == \"vw\") | \n",
        "         (cars['car_company'] == \"vokswagen\")\n",
        "         , 'car_company'] = 'volkswagen'\n",
        "\n",
        "# porsche\n",
        "cars.loc[cars['car_company'] == \"porcshce\", 'car_company'] = 'porsche'\n",
        "\n",
        "# toyota\n",
        "cars.loc[cars['car_company'] == \"toyouta\", 'car_company'] = 'toyota'\n",
        "\n",
        "# nissan\n",
        "cars.loc[cars['car_company'] == \"Nissan\", 'car_company'] = 'nissan'\n",
        "\n",
        "# mazda\n",
        "cars.loc[cars['car_company'] == \"maxda\", 'car_company'] = 'mazda'"
      ],
      "metadata": {
        "id": "scEN9k_5ePOS"
      },
      "execution_count": 28,
      "outputs": []
    },
    {
      "cell_type": "code",
      "source": [
        "cars['car_company'].astype('category').value_counts()"
      ],
      "metadata": {
        "id": "YPco7tCheh7U"
      },
      "execution_count": null,
      "outputs": []
    },
    {
      "cell_type": "code",
      "source": [
        "# drop carname variable\n",
        "cars = cars.drop('CarName', axis=1)"
      ],
      "metadata": {
        "id": "fZM71CIeekl7"
      },
      "execution_count": 30,
      "outputs": []
    },
    {
      "cell_type": "code",
      "source": [
        "cars.info()"
      ],
      "metadata": {
        "id": "4ckGEpceenQv"
      },
      "execution_count": null,
      "outputs": []
    },
    {
      "cell_type": "code",
      "source": [
        "# split into X and y\n",
        "X = cars.loc[:, ['symboling', 'fueltype', 'aspiration', 'doornumber',\n",
        "       'carbody', 'drivewheel', 'enginelocation', 'wheelbase', 'carlength',\n",
        "       'carwidth', 'carheight', 'curbweight', 'enginetype', 'cylindernumber',\n",
        "       'enginesize', 'fuelsystem', 'boreratio', 'stroke', 'compressionratio',\n",
        "       'horsepower', 'peakrpm', 'citympg', 'highwaympg',\n",
        "       'car_company']]\n",
        "\n",
        "y = cars['price']"
      ],
      "metadata": {
        "id": "X1Oa4_W9en0v"
      },
      "execution_count": 55,
      "outputs": []
    },
    {
      "cell_type": "code",
      "source": [
        "#X = X.drop(\"stroke\", axis=1)  do this only if you want to increase the accuracy"
      ],
      "metadata": {
        "id": "H4bH9Klg0eKd"
      },
      "execution_count": 56,
      "outputs": []
    },
    {
      "cell_type": "code",
      "source": [
        "# creating dummy variables for categorical variables\n",
        "\n",
        "# subset all categorical variables\n",
        "cars_categorical = X.select_dtypes(include=['object'])\n",
        "cars_categorical.head()"
      ],
      "metadata": {
        "id": "kXurHfAxeyQc"
      },
      "execution_count": null,
      "outputs": []
    },
    {
      "cell_type": "code",
      "source": [
        "# convert into dummies\n",
        "cars_dummies = pd.get_dummies(cars_categorical, drop_first=True)\n",
        "cars_dummies.head()"
      ],
      "metadata": {
        "id": "5cgax4Qee1yJ"
      },
      "execution_count": null,
      "outputs": []
    },
    {
      "cell_type": "code",
      "source": [
        "# drop categorical variables \n",
        "X = X.drop(list(cars_categorical.columns), axis=1)\n"
      ],
      "metadata": {
        "id": "Ehz1C6FJe7va"
      },
      "execution_count": 59,
      "outputs": []
    },
    {
      "cell_type": "code",
      "source": [
        "# concat dummy variables with X\n",
        "X = pd.concat([X, cars_dummies], axis=1)"
      ],
      "metadata": {
        "id": "SGyk1sCBe-eN"
      },
      "execution_count": 60,
      "outputs": []
    },
    {
      "cell_type": "code",
      "source": [
        "X"
      ],
      "metadata": {
        "id": "wObV1DA6wk7Y"
      },
      "execution_count": null,
      "outputs": []
    },
    {
      "cell_type": "code",
      "source": [
        "# scaling the features\n",
        "from sklearn.preprocessing import scale\n",
        "\n",
        "# storing column names in cols, since column names are (annoyingly) lost after \n",
        "# scaling (the df is converted to a numpy array)\n",
        "cols = X.columns\n",
        "X = pd.DataFrame(scale(X))\n",
        "X.columns = cols\n",
        "X.columns"
      ],
      "metadata": {
        "id": "7ZlFJC9YfClv"
      },
      "execution_count": null,
      "outputs": []
    },
    {
      "cell_type": "code",
      "source": [
        "# split into train and test\n",
        "from sklearn.model_selection import train_test_split\n",
        "X_train, X_test, y_train, y_test = train_test_split(X, y, \n",
        "                                                    train_size=0.7,\n",
        "                                                    test_size = 0.3, random_state=100)"
      ],
      "metadata": {
        "id": "sFRL8iR_fIT_"
      },
      "execution_count": 63,
      "outputs": []
    },
    {
      "cell_type": "code",
      "source": [
        "# Building the first model with all the features\n",
        "\n",
        "# instantiate\n",
        "lm = LinearRegression()\n",
        "\n",
        "# fit\n",
        "lm.fit(X_train, y_train)"
      ],
      "metadata": {
        "id": "TBjz5wzzfRKt"
      },
      "execution_count": null,
      "outputs": []
    },
    {
      "cell_type": "code",
      "source": [
        "lm.score(X_train,y_train)"
      ],
      "metadata": {
        "id": "pYOl3QMExzoc"
      },
      "execution_count": null,
      "outputs": []
    },
    {
      "cell_type": "code",
      "source": [
        "lm.score(X_test,y_test)"
      ],
      "metadata": {
        "id": "fjq0XfbWx-Yp"
      },
      "execution_count": null,
      "outputs": []
    },
    {
      "cell_type": "code",
      "source": [
        "# predict \n",
        "y_pred = lm.predict(X_test)\n",
        "\n",
        "# metrics\n",
        "from sklearn.metrics import r2_score\n",
        "\n",
        "print(r2_score(y_true=y_test, y_pred=y_pred))"
      ],
      "metadata": {
        "id": "UDQnZHDOfeO0"
      },
      "execution_count": null,
      "outputs": []
    },
    {
      "cell_type": "code",
      "source": [
        "from sklearn.preprocessing import PolynomialFeatures"
      ],
      "metadata": {
        "id": "Wg_NjL0Pyz9N"
      },
      "execution_count": 45,
      "outputs": []
    },
    {
      "cell_type": "code",
      "source": [
        "poly = PolynomialFeatures(degree=2, interaction_only=True)\n",
        "X_train2 = poly.fit_transform(X_train)\n",
        "X_test2 = poly.fit_transform(X_test)"
      ],
      "metadata": {
        "id": "ZeS1kD0ly1Tq"
      },
      "execution_count": 46,
      "outputs": []
    },
    {
      "cell_type": "code",
      "source": [
        "len(X_train2)"
      ],
      "metadata": {
        "id": "BKW6z1M_zcn2"
      },
      "execution_count": null,
      "outputs": []
    },
    {
      "cell_type": "code",
      "source": [
        "nlm = LinearRegression()"
      ],
      "metadata": {
        "id": "s2GbodQay2gl"
      },
      "execution_count": 50,
      "outputs": []
    },
    {
      "cell_type": "code",
      "source": [
        "nlm.fit(X_train2, y_train)"
      ],
      "metadata": {
        "id": "bjM8pWmUy3fN"
      },
      "execution_count": null,
      "outputs": []
    },
    {
      "cell_type": "code",
      "source": [
        "y_pred1 = nlm.predict(X_test2)"
      ],
      "metadata": {
        "id": "7RGdfDK7y4UI"
      },
      "execution_count": 52,
      "outputs": []
    },
    {
      "cell_type": "code",
      "source": [
        "print(nlm.score(X_train2, y_train))\n",
        "\n",
        "print(r2_score(y_true=y_test, y_pred=y_pred1))"
      ],
      "metadata": {
        "id": "mRFPaHqmy5dB"
      },
      "execution_count": null,
      "outputs": []
    }
  ]
}