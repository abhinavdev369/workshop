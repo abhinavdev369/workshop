{
  "nbformat": 4,
  "nbformat_minor": 0,
  "metadata": {
    "colab": {
      "provenance": []
    },
    "kernelspec": {
      "name": "python3",
      "display_name": "Python 3"
    },
    "language_info": {
      "name": "python"
    }
  },
  "cells": [
    {
      "cell_type": "code",
      "execution_count": null,
      "metadata": {
        "id": "3Ned33bg4UPu"
      },
      "outputs": [],
      "source": [
        "!git clone https://github.com/deepanrajm/machine_learning.git"
      ]
    },
    {
      "cell_type": "code",
      "source": [
        "from pandas import read_csv\n",
        "import numpy as np\n",
        "import sklearn\n",
        "from sklearn.metrics import classification_report\n",
        "from sklearn.svm import SVC\n",
        "from sklearn.tree import DecisionTreeClassifier\n",
        "from sklearn.linear_model import LogisticRegression\n",
        "from sklearn.ensemble import RandomForestClassifier\n",
        "from sklearn.neighbors import KNeighborsClassifier\n",
        "from xgboost import XGBClassifier\n",
        "from sklearn.ensemble import  AdaBoostClassifier, BaggingClassifier\n",
        "from matplotlib import pyplot as plt\n",
        "from sklearn.model_selection import train_test_split"
      ],
      "metadata": {
        "id": "WY7GTzRy4uk9"
      },
      "execution_count": 25,
      "outputs": []
    },
    {
      "cell_type": "markdown",
      "source": [
        "# Data 1"
      ],
      "metadata": {
        "id": "i-8rL-l3B43M"
      }
    },
    {
      "cell_type": "code",
      "source": [
        "dataframe = read_csv(\"machine_learning/Classification/material.csv\")\n",
        "dataframe.head()"
      ],
      "metadata": {
        "id": "QTjf7tSmB-Pr"
      },
      "execution_count": null,
      "outputs": []
    },
    {
      "cell_type": "code",
      "source": [
        "dataframe.info()"
      ],
      "metadata": {
        "id": "r--bHZtCB-P3"
      },
      "execution_count": null,
      "outputs": []
    },
    {
      "cell_type": "code",
      "source": [
        "dataframe.isnull().any().any()\n",
        "dataframe.isnull().sum().sum()"
      ],
      "metadata": {
        "id": "cg0mWn01B-P3"
      },
      "execution_count": null,
      "outputs": []
    },
    {
      "cell_type": "code",
      "source": [
        "dataset = dataframe.values\n",
        "data = dataset[:,1:7].astype(float)\n",
        "labels = dataset[:,7]"
      ],
      "metadata": {
        "id": "e7alHI_NB-P3"
      },
      "execution_count": 7,
      "outputs": []
    },
    {
      "cell_type": "code",
      "source": [
        "labels = labels.astype(int)"
      ],
      "metadata": {
        "id": "3kVIAIhhCYUv"
      },
      "execution_count": 11,
      "outputs": []
    },
    {
      "cell_type": "code",
      "source": [
        "(trainData, testData, trainLabels, testLabels) = train_test_split(np.array(data),\n",
        "\tnp.array(labels), test_size=0.25, random_state=42)"
      ],
      "metadata": {
        "id": "jJR957T7B-P4"
      },
      "execution_count": 12,
      "outputs": []
    },
    {
      "cell_type": "code",
      "source": [
        "model = SVC(kernel=\"linear\",C=1)\n",
        "model.fit(trainData, trainLabels)"
      ],
      "metadata": {
        "id": "c_S6TSfgB-P4"
      },
      "execution_count": null,
      "outputs": []
    },
    {
      "cell_type": "code",
      "source": [
        "print(model.score(trainData, trainLabels))"
      ],
      "metadata": {
        "id": "U_w8RKpDB-P4"
      },
      "execution_count": null,
      "outputs": []
    },
    {
      "cell_type": "code",
      "source": [
        "print(model.score(testData, testLabels))"
      ],
      "metadata": {
        "id": "PP-97mnHB-P5"
      },
      "execution_count": null,
      "outputs": []
    },
    {
      "cell_type": "code",
      "source": [
        "predictions = model.predict(testData)\n",
        "\n",
        "print(classification_report(testLabels, predictions))"
      ],
      "metadata": {
        "id": "QlDPsNb7B-P5"
      },
      "execution_count": null,
      "outputs": []
    },
    {
      "cell_type": "code",
      "source": [
        "#weights='distance'\n",
        "model = KNeighborsClassifier(n_neighbors=9,weights='uniform')\n",
        "model.fit(trainData, trainLabels)\n",
        "\n",
        "print(model.score(trainData, trainLabels))\n",
        "predictions = model.predict(testData)\n",
        "\n",
        "print(classification_report(testLabels, predictions))\n"
      ],
      "metadata": {
        "id": "RRVg0C1VB-P5"
      },
      "execution_count": null,
      "outputs": []
    },
    {
      "cell_type": "code",
      "source": [
        "#penality = l1,l2, elasticnet\n",
        "#solver = liblinear, sag, saga, lbfgs, newton-cg\n",
        "#max-iter = 100\n",
        "\n",
        "model = LogisticRegression(max_iter=150,solver = 'liblinear')\n",
        "model.fit(trainData, trainLabels)\n",
        "\n",
        "print(model.score(trainData, trainLabels))\n",
        "predictions = model.predict(testData)\n",
        "\n",
        "print(classification_report(testLabels, predictions))"
      ],
      "metadata": {
        "id": "A2I5A3W0B-P5"
      },
      "execution_count": null,
      "outputs": []
    },
    {
      "cell_type": "code",
      "source": [
        "\n",
        "#splitter = best, random | max_features = int, auto, log, none | max_depth = int\n",
        "model = DecisionTreeClassifier(random_state=42)#,criterion='gini',max_features=2, max_depth = 15)\n",
        "model.fit(trainData, trainLabels)\n",
        "\n",
        "print(model.score(trainData, trainLabels))\n",
        "predictions = model.predict(testData)\n",
        "\n",
        "print(classification_report(testLabels, predictions))"
      ],
      "metadata": {
        "id": "qhOtHcwqB-P5"
      },
      "execution_count": null,
      "outputs": []
    },
    {
      "cell_type": "code",
      "source": [
        "#splitter = best, random | max_features = int, auto, log, none | max_depth = int\n",
        "model = RandomForestClassifier(n_estimators=30, random_state=42)#,criterion='gini',max_depth=10)\n",
        "model.fit(trainData, trainLabels)\n",
        "\n",
        "print(model.score(trainData, trainLabels))\n",
        "predictions = model.predict(testData)\n",
        "\n",
        "print(classification_report(testLabels, predictions))"
      ],
      "metadata": {
        "id": "87krOoGSB-P6"
      },
      "execution_count": null,
      "outputs": []
    },
    {
      "cell_type": "code",
      "source": [
        "model = BaggingClassifier(n_estimators=10)\n",
        "model.fit(trainData, trainLabels)\n",
        "\n",
        "print(model.score(trainData, trainLabels))\n",
        "predictions = model.predict(testData)\n",
        "\n",
        "print(classification_report(testLabels, predictions))"
      ],
      "metadata": {
        "id": "qpGgep1QDb5Z"
      },
      "execution_count": null,
      "outputs": []
    },
    {
      "cell_type": "code",
      "source": [
        "model = AdaBoostClassifier()\n",
        "model.fit(trainData, trainLabels)\n",
        "\n",
        "print(model.score(trainData, trainLabels))\n",
        "predictions = model.predict(testData)\n",
        "\n",
        "print(classification_report(testLabels, predictions))"
      ],
      "metadata": {
        "id": "l3raqz3bB-P6"
      },
      "execution_count": null,
      "outputs": []
    },
    {
      "cell_type": "code",
      "source": [
        "model = XGBClassifier()\n",
        "model.fit(trainData, trainLabels)\n",
        "\n",
        "print(model.score(trainData, trainLabels))\n",
        "predictions = model.predict(testData)\n",
        "\n",
        "print(classification_report(testLabels, predictions))\n"
      ],
      "metadata": {
        "id": "pavYJUMGB-P7"
      },
      "execution_count": null,
      "outputs": []
    },
    {
      "cell_type": "markdown",
      "source": [
        "# Data 2"
      ],
      "metadata": {
        "id": "DBHyWsHCCG59"
      }
    },
    {
      "cell_type": "code",
      "source": [
        "dataframe = read_csv(\"machine_learning/Classification/Cleaned_Metalearning.csv\")\n",
        "dataframe.head()"
      ],
      "metadata": {
        "id": "XKIilQ344veB"
      },
      "execution_count": null,
      "outputs": []
    },
    {
      "cell_type": "code",
      "source": [
        "dataframe.info()"
      ],
      "metadata": {
        "id": "kv-VbX5P4-bg"
      },
      "execution_count": null,
      "outputs": []
    },
    {
      "cell_type": "code",
      "source": [
        "dataframe.isnull().any().any()\n",
        "dataframe.isnull().sum().sum()"
      ],
      "metadata": {
        "id": "5_uMlaBB5-Bi"
      },
      "execution_count": null,
      "outputs": []
    },
    {
      "cell_type": "code",
      "source": [
        "dataframe.dropna(inplace = True)"
      ],
      "metadata": {
        "id": "FGsaimBZ6lkF"
      },
      "execution_count": 18,
      "outputs": []
    },
    {
      "cell_type": "code",
      "source": [
        "dataset = dataframe.values\n",
        "data = dataset[:,1:6].astype(float)\n",
        "labels = dataset[:,6]"
      ],
      "metadata": {
        "id": "iI-xErKT5Bjb"
      },
      "execution_count": 20,
      "outputs": []
    },
    {
      "cell_type": "code",
      "source": [
        "labels = labels.astype(int)"
      ],
      "metadata": {
        "id": "IOulUAur9u5p"
      },
      "execution_count": 42,
      "outputs": []
    },
    {
      "cell_type": "code",
      "source": [
        "(trainData, testData, trainLabels, testLabels) = train_test_split(np.array(data),\n",
        "\tnp.array(labels), test_size=0.25, random_state=42)"
      ],
      "metadata": {
        "id": "LLvfcJmT5OF2"
      },
      "execution_count": 43,
      "outputs": []
    },
    {
      "cell_type": "code",
      "source": [
        "model = SVC(kernel=\"linear\",C=1)\n",
        "model.fit(trainData, trainLabels)"
      ],
      "metadata": {
        "id": "64fyHI6E5jm0"
      },
      "execution_count": null,
      "outputs": []
    },
    {
      "cell_type": "code",
      "source": [
        "print(model.score(trainData, trainLabels))"
      ],
      "metadata": {
        "id": "Uq40TqTs63Cs"
      },
      "execution_count": null,
      "outputs": []
    },
    {
      "cell_type": "code",
      "source": [
        "print(model.score(testData, testLabels))"
      ],
      "metadata": {
        "id": "erySd39-65Pr"
      },
      "execution_count": null,
      "outputs": []
    },
    {
      "cell_type": "code",
      "source": [
        "predictions = model.predict(testData)\n",
        "\n",
        "print(classification_report(testLabels, predictions))"
      ],
      "metadata": {
        "id": "xGHf5yH-67DN"
      },
      "execution_count": null,
      "outputs": []
    },
    {
      "cell_type": "code",
      "source": [
        "#weights='distance'\n",
        "model = KNeighborsClassifier(n_neighbors=9,weights='uniform')\n",
        "model.fit(trainData, trainLabels)\n",
        "\n",
        "print(model.score(trainData, trainLabels))\n",
        "predictions = model.predict(testData)\n",
        "\n",
        "print(classification_report(testLabels, predictions))\n"
      ],
      "metadata": {
        "id": "oTqG_kKB7Z_k"
      },
      "execution_count": null,
      "outputs": []
    },
    {
      "cell_type": "code",
      "source": [
        "#penality = l1,l2, elasticnet\n",
        "#solver = liblinear, sag, saga, lbfgs, newton-cg\n",
        "#max-iter = 100\n",
        "\n",
        "model = LogisticRegression(max_iter=150,solver = 'liblinear')\n",
        "model.fit(trainData, trainLabels)\n",
        "\n",
        "print(model.score(trainData, trainLabels))\n",
        "predictions = model.predict(testData)\n",
        "\n",
        "print(classification_report(testLabels, predictions))"
      ],
      "metadata": {
        "id": "H0k1r-Ow7qnL"
      },
      "execution_count": null,
      "outputs": []
    },
    {
      "cell_type": "code",
      "source": [
        "\n",
        "#splitter = best, random | max_features = int, auto, log, none | max_depth = int\n",
        "model = DecisionTreeClassifier(random_state=42)#,criterion='gini',max_features=2, max_depth = 15)\n",
        "model.fit(trainData, trainLabels)\n",
        "\n",
        "print(model.score(trainData, trainLabels))\n",
        "predictions = model.predict(testData)\n",
        "\n",
        "print(classification_report(testLabels, predictions))"
      ],
      "metadata": {
        "id": "yunYnEK-8RuX"
      },
      "execution_count": null,
      "outputs": []
    },
    {
      "cell_type": "code",
      "source": [
        "#splitter = best, random | max_features = int, auto, log, none | max_depth = int\n",
        "model = RandomForestClassifier(n_estimators=30, random_state=42)#,criterion='gini',max_depth=10)\n",
        "model.fit(trainData, trainLabels)\n",
        "\n",
        "print(model.score(trainData, trainLabels))\n",
        "predictions = model.predict(testData)\n",
        "\n",
        "print(classification_report(testLabels, predictions))"
      ],
      "metadata": {
        "id": "NKRp2-6b794H"
      },
      "execution_count": null,
      "outputs": []
    },
    {
      "cell_type": "code",
      "source": [
        "model = BaggingClassifier(n_estimators=10)\n",
        "model.fit(trainData, trainLabels)\n",
        "\n",
        "print(model.score(trainData, trainLabels))\n",
        "predictions = model.predict(testData)\n",
        "\n",
        "print(classification_report(testLabels, predictions))"
      ],
      "metadata": {
        "id": "gAl2tmTjDoE-"
      },
      "execution_count": null,
      "outputs": []
    },
    {
      "cell_type": "code",
      "source": [
        "model = AdaBoostClassifier()\n",
        "model.fit(trainData, trainLabels)\n",
        "\n",
        "print(model.score(trainData, trainLabels))\n",
        "predictions = model.predict(testData)\n",
        "\n",
        "print(classification_report(testLabels, predictions))"
      ],
      "metadata": {
        "id": "Dz3v7PTn8HKH"
      },
      "execution_count": null,
      "outputs": []
    },
    {
      "cell_type": "code",
      "source": [
        "t_trainLabels = trainLabels - 1\n",
        "t_testLabels = testLabels - 1"
      ],
      "metadata": {
        "id": "kfVvHgyA_Isj"
      },
      "execution_count": 50,
      "outputs": []
    },
    {
      "cell_type": "code",
      "source": [
        "model = XGBClassifier()\n",
        "model.fit(trainData, t_trainLabels)\n",
        "\n",
        "print(model.score(trainData, t_trainLabels))\n",
        "predictions = model.predict(testData)\n",
        "\n",
        "print(classification_report(t_testLabels, predictions))\n"
      ],
      "metadata": {
        "id": "HR6RW7TX9ck_"
      },
      "execution_count": null,
      "outputs": []
    }
  ]
}